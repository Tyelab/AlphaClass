{
 "cells": [
  {
   "cell_type": "markdown",
   "metadata": {},
   "source": []
  },
  {
   "cell_type": "code",
   "execution_count": 1,
   "metadata": {},
   "outputs": [],
   "source": [
    "import cv2\n"
   ]
  },
  {
   "cell_type": "code",
   "execution_count": 8,
   "metadata": {},
   "outputs": [],
   "source": [
    "import math\n",
    "import numpy as np\n",
    "import os\n",
    "def substring_after(s, delim):\n",
    "    return s.partition(delim)[2]"
   ]
  },
  {
   "cell_type": "code",
   "execution_count": 11,
   "metadata": {},
   "outputs": [
    {
     "name": "stdout",
     "output_type": "stream",
     "text": [
      "Cage170M1-OM-FormalinUnder-dscodec.mp4\n",
      "14\n"
     ]
    }
   ],
   "source": [
    "#################### Setting up the file ################\n",
    "# videoRoot = \"your_input_folder\"\n",
    "# \"Z:\\\\Caroline\\\\1.Social Pain\\\\!!Pilot\\\\2.FOMO\\\\3.FOMO_Catchtrials\\\\FOMO_Catch_forCrop\\\\converted\\\\Cropped\\\\\"\n",
    "#videoFile = root + \"your_video.mp4\"\n",
    "\n",
    "#root = \"Z:\\\\Caroline\\\\1.Social Pain\\\\!!Pilot\\\\4.InscopixImaging-CeA_AI\\\\Inscopix\\\\FOMO_light\\\\Videos\\\\Convertmp4\\\\\"\n",
    "#root = \"X:\\\\Caroline\\\\Alphatracker\\\\fomo_light\\\\\"\n",
    "#root = \"W:\\\\Caroline\\\\1.SocialPain\\\\1.Sensors\\\\2.DA_OXT_sensor\\\\Videos\\FOMOsession\\\\forSLEAP_v2\\\\\"\n",
    "#root = \"\\\\nadata\\\\snlkt\\\\data\\\\Caroline\\\\1.SocialPain\\\\4.Behavior\\\\Cages-100-106\\\\Videos\\\\Social\\\\videos\\\\\"\n",
    "#root = '/snlkt/data/Caroline/1.SocialPain/4.Behavior/Cages-100-109/Videos/Social/Box4Vids/'\n",
    "# root = '/snlkt/data/Caroline/1.SocialPain/7.AllALPHACLASS_SLEAP/AllVideos/Cage19-20-FOMOstranger/Bright/'\n",
    "root = '/snlkt/data/Caroline/1.SocialPain/4.Behavior/Cages-170-173-Formalin3/Videos/FormalinChamber/SE_OM_TO/Color/cropped/'\n",
    "arr = os.listdir(root)\n",
    "outputImage = '/snlkt/data/Caroline/1.SocialPain/4.Behavior/Cages-170-173-Formalin3/Videos/FormalinChamber/SE_OM_TO/Color/cropped/pick_frames/'\n",
    "\n",
    "print (arr[0])\n",
    "print (len(arr))"
   ]
  },
  {
   "cell_type": "code",
   "execution_count": 12,
   "metadata": {},
   "outputs": [
    {
     "name": "stdout",
     "output_type": "stream",
     "text": [
      "/snlkt/data/Caroline/1.SocialPain/4.Behavior/Cages-170-173-Formalin3/Videos/FormalinChamber/SE_OM_TO/Color/cropped/Cage170M1-OM-FormalinUnder-dscodec.mp4\n",
      "True\n",
      "30\n",
      "30\n",
      "Done with Cage170M1-OM-FormalinUnder-dscodec\n",
      "2000\n",
      "/snlkt/data/Caroline/1.SocialPain/4.Behavior/Cages-170-173-Formalin3/Videos/FormalinChamber/SE_OM_TO/Color/cropped/Cage170M2-SE-FormalinUnder-dscodec.mp4\n",
      "True\n",
      "30\n",
      "30\n",
      "Done with Cage170M2-SE-FormalinUnder-dscodec\n",
      "2000\n",
      "/snlkt/data/Caroline/1.SocialPain/4.Behavior/Cages-170-173-Formalin3/Videos/FormalinChamber/SE_OM_TO/Color/cropped/Cage170M3-TO-FormalinUnder-dscodec.mp4\n",
      "True\n",
      "30\n",
      "30\n",
      "Done with Cage170M3-TO-FormalinUnder-dscodec\n",
      "2000\n",
      "/snlkt/data/Caroline/1.SocialPain/4.Behavior/Cages-170-173-Formalin3/Videos/FormalinChamber/SE_OM_TO/Color/cropped/Cage170M4-OM-FormalinUnder-dscodec.mp4\n",
      "True\n",
      "30\n",
      "30\n",
      "Done with Cage170M4-OM-FormalinUnder-dscodec\n",
      "2000\n",
      "/snlkt/data/Caroline/1.SocialPain/4.Behavior/Cages-170-173-Formalin3/Videos/FormalinChamber/SE_OM_TO/Color/cropped/Cage171M1-OM-FormalinUnder-dscodec.mp4\n",
      "True\n",
      "30\n",
      "30\n",
      "Done with Cage171M1-OM-FormalinUnder-dscodec\n",
      "2000\n",
      "/snlkt/data/Caroline/1.SocialPain/4.Behavior/Cages-170-173-Formalin3/Videos/FormalinChamber/SE_OM_TO/Color/cropped/Cage171M2-OM-FormalinUnder-dscodec.mp4\n",
      "True\n",
      "30\n",
      "30\n",
      "Done with Cage171M2-OM-FormalinUnder-dscodec\n",
      "2000\n",
      "/snlkt/data/Caroline/1.SocialPain/4.Behavior/Cages-170-173-Formalin3/Videos/FormalinChamber/SE_OM_TO/Color/cropped/Cage171M3-SE-FormalinUnder-dscodec.mp4\n",
      "True\n",
      "30\n",
      "30\n",
      "Done with Cage171M3-SE-FormalinUnder-dscodec\n",
      "2000\n",
      "/snlkt/data/Caroline/1.SocialPain/4.Behavior/Cages-170-173-Formalin3/Videos/FormalinChamber/SE_OM_TO/Color/cropped/Cage171M4-TO-FormalinUnder-dscodec.mp4\n",
      "True\n",
      "30\n",
      "30\n",
      "Done with Cage171M4-TO-FormalinUnder-dscodec\n",
      "2000\n",
      "/snlkt/data/Caroline/1.SocialPain/4.Behavior/Cages-170-173-Formalin3/Videos/FormalinChamber/SE_OM_TO/Color/cropped/Cage172M1-OM-FormalinUnder-dscodec.mp4\n",
      "True\n",
      "30\n",
      "30\n",
      "Done with Cage172M1-OM-FormalinUnder-dscodec\n",
      "2000\n",
      "/snlkt/data/Caroline/1.SocialPain/4.Behavior/Cages-170-173-Formalin3/Videos/FormalinChamber/SE_OM_TO/Color/cropped/Cage172M2-TO-FormalinUnder-dscodec.mp4\n",
      "True\n",
      "30\n",
      "30\n",
      "Done with Cage172M2-TO-FormalinUnder-dscodec\n",
      "2000\n",
      "/snlkt/data/Caroline/1.SocialPain/4.Behavior/Cages-170-173-Formalin3/Videos/FormalinChamber/SE_OM_TO/Color/cropped/Cage172M3-OM-FormalinUnder-dscodec.mp4\n",
      "True\n",
      "30\n",
      "30\n",
      "Done with Cage172M3-OM-FormalinUnder-dscodec\n",
      "2000\n",
      "/snlkt/data/Caroline/1.SocialPain/4.Behavior/Cages-170-173-Formalin3/Videos/FormalinChamber/SE_OM_TO/Color/cropped/Cage172M4-SE-FormalinUnder-dscodec.mp4\n",
      "True\n",
      "30\n",
      "30\n",
      "Done with Cage172M4-SE-FormalinUnder-dscodec\n",
      "2000\n",
      "/snlkt/data/Caroline/1.SocialPain/4.Behavior/Cages-170-173-Formalin3/Videos/FormalinChamber/SE_OM_TO/Color/cropped/pick_frames\n",
      "False\n",
      "0\n",
      "0\n",
      "Done with pick_frames\n",
      "1000\n",
      "/snlkt/data/Caroline/1.SocialPain/4.Behavior/Cages-170-173-Formalin3/Videos/FormalinChamber/SE_OM_TO/Color/cropped/archive\n",
      "False\n",
      "0\n",
      "0\n",
      "Done with archive\n",
      "1000\n"
     ]
    },
    {
     "name": "stderr",
     "output_type": "stream",
     "text": [
      "[ERROR:0@1294.735] global cap.cpp:164 open VIDEOIO(CV_IMAGES): raised OpenCV exception:\n",
      "\n",
      "OpenCV(4.8.0) /io/opencv/modules/videoio/src/cap_images.cpp:253: error: (-5:Bad argument) CAP_IMAGES: can't find starting number (in the name of file): /snlkt/data/Caroline/1.SocialPain/4.Behavior/Cages-170-173-Formalin3/Videos/FormalinChamber/SE_OM_TO/Color/cropped/pick_frames in function 'icvExtractPattern'\n",
      "\n",
      "\n",
      "[ERROR:0@1294.738] global cap.cpp:164 open VIDEOIO(CV_IMAGES): raised OpenCV exception:\n",
      "\n",
      "OpenCV(4.8.0) /io/opencv/modules/videoio/src/cap_images.cpp:253: error: (-5:Bad argument) CAP_IMAGES: can't find starting number (in the name of file): /snlkt/data/Caroline/1.SocialPain/4.Behavior/Cages-170-173-Formalin3/Videos/FormalinChamber/SE_OM_TO/Color/cropped/archive in function 'icvExtractPattern'\n",
      "\n",
      "\n"
     ]
    }
   ],
   "source": [
    "for i in range(0,len(arr)):\n",
    "        \n",
    "        #thisvid = \"Cage46M3-OM.mp4\"\n",
    "        thisvid = arr[i]\n",
    "        videoFile = root + thisvid \n",
    "        #video_name = videoFile.split(\"Cage\", 1)[1]\n",
    "        print(videoFile)\n",
    "        \n",
    "        video_name =thisvid.partition('.mp4')[0]\n",
    "        #print(video_name)\n",
    "\n",
    "        #outputImage = root + \"your_output_folder/\"\n",
    "        vidcap = cv2.VideoCapture(videoFile)\n",
    "        success,image = vidcap.read()\n",
    "        print(success)\n",
    "\n",
    "        #################### Setting up parameters ################\n",
    "\n",
    "        seconds = 1 # selecting 1 frame per 60 seconds Nancy changed this from 60 to 1.5\n",
    "        fps = vidcap.get(cv2.CAP_PROP_FPS) # Gets the frames per second\n",
    "        fps=round(fps)\n",
    "        multiplier = fps * seconds\n",
    "        print (fps)\n",
    "        print (multiplier)\n",
    "        \n",
    "        #################### Initiate Process ################\n",
    "        counter=1000\n",
    "        while success and counter<2000:\n",
    "            frameId = int(round(vidcap.get(1))) #current frame number, rounded b/c sometimes you get frame intervals which aren't integers...this adds a little imprecision but is likely good enough\n",
    "            success, image = vidcap.read()\n",
    "\n",
    "            if frameId % multiplier == 0:\n",
    "\n",
    "                cv2.imwrite(outputImage + video_name + \"_%d.jpg\" % frameId, image)\n",
    "                counter+=1\n",
    "        vidcap.release()\n",
    "        temp_string = \"Done with \" + video_name\n",
    "        print (temp_string)\n",
    "        print (counter)"
   ]
  },
  {
   "cell_type": "code",
   "execution_count": null,
   "metadata": {},
   "outputs": [],
   "source": []
  },
  {
   "cell_type": "code",
   "execution_count": null,
   "metadata": {},
   "outputs": [],
   "source": []
  },
  {
   "cell_type": "code",
   "execution_count": null,
   "metadata": {},
   "outputs": [],
   "source": []
  },
  {
   "cell_type": "code",
   "execution_count": null,
   "metadata": {},
   "outputs": [],
   "source": [
    "#dont need to run this\n",
    "\n",
    "###if you need to black out a square in image as you loop through frames###\n",
    "# path  \n",
    "counter=0\n",
    "while success and counter<25:\n",
    "    frameId = int(round(vidcap.get(1))) #current frame number, rounded b/c sometimes you get frame intervals which aren't integers...this adds a little imprecision but is likely good enough\n",
    "    success, image = vidcap.read()\n",
    "\n",
    "    if frameId % multiplier == 0:\n",
    "        cv2.rectangle(image, (0,0), (470,270), (0,0,0), -1)\n",
    "        cv2.imwrite(outputImage + \"day2_box3LH1frame%d.jpg\" % frameId, image)\n",
    "        counter+=1\n",
    "vidcap.release()\n",
    "print ('Complete')\n"
   ]
  },
  {
   "cell_type": "code",
   "execution_count": null,
   "metadata": {},
   "outputs": [],
   "source": []
  },
  {
   "cell_type": "code",
   "execution_count": null,
   "metadata": {},
   "outputs": [],
   "source": []
  },
  {
   "cell_type": "code",
   "execution_count": null,
   "metadata": {},
   "outputs": [],
   "source": []
  },
  {
   "cell_type": "code",
   "execution_count": null,
   "metadata": {},
   "outputs": [],
   "source": []
  }
 ],
 "metadata": {
  "kernelspec": {
   "display_name": "keypoint_moseq",
   "language": "python",
   "name": "keypoint_moseq"
  },
  "language_info": {
   "codemirror_mode": {
    "name": "ipython",
    "version": 3
   },
   "file_extension": ".py",
   "mimetype": "text/x-python",
   "name": "python",
   "nbconvert_exporter": "python",
   "pygments_lexer": "ipython3",
   "version": "3.9.17"
  }
 },
 "nbformat": 4,
 "nbformat_minor": 4
}
